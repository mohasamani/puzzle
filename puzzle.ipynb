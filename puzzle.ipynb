{
 "cells": [
  {
   "cell_type": "markdown",
   "metadata": {},
   "source": [
    "# Entry Puzzle for Applicants at Theoretical Chemistry\n",
    "\n",
    "Below you can demonstrate your skills in _biophysics_, _computer science_, and _communication_.\n",
    "Your answers should be done directly in this Notebook using\n",
    "[Markdown](http://jupyter-notebook.readthedocs.org/en/latest/examples/Notebook/rstversions/Working%20With%20Markdown%20Cells.html)\n",
    "language to format text, add equations etc. Try to be concise and to-the-point.\n",
    "\n",
    "----\n",
    "### Applicant's name: _Insert full name here_\n",
    "----\n",
    "\n",
    "Please attach the this edited Notebook with your application."
   ]
  },
  {
   "cell_type": "markdown",
   "metadata": {},
   "source": [
    "## 1. Electrostatic Interactions\n",
    "\n",
    "The electric interaction energy between two charges, $q_i$ and $q_j$, in an aqueous salt solution can be approximated by the Debye-Hückel pair-potential,\n",
    "\n",
    "$$ u(r_{ij}) = \\frac{q_iq_j}{4\\pi\\epsilon_0\\epsilon_r r_{ij}} e^{-r_{ij}/D}$$\n",
    "\n",
    "where $D$ is the Debye screening length - the rest of the parameters are the same as for the Coulomb potential.\n",
    "\n",
    "- For 10 mM 1:1 salt ($D=30$ Å) and 100 mM 1:1 salt ($D=$? Å), plot the interaction _energy_ as well as the _force_ as a function of distance and comment on the result."
   ]
  },
  {
   "cell_type": "code",
   "execution_count": 1,
   "metadata": {
    "collapsed": true
   },
   "outputs": [],
   "source": [
    "%matplotlib inline\n",
    "import matplotlib\n",
    "import matplotlib.pyplot as plt\n",
    "import numpy as np\n"
    
  
   ]
  },
  {
   "cell_type": "code",
   "execution_count": 2,
   "metadata": {
    "collapsed": false
   },
   "outputs": [
    {
     "data": {
      "text/plain": [
       "[<matplotlib.lines.Line2D at 0x1057dabd0>]"
      ]
     },
     "execution_count": 2,
     "metadata": {},
     "output_type": "execute_result"
    },
    {
     "data": {
      "image/png": "[encoded data removed]",
      "text/plain": [
       "<matplotlib.figure.Figure at 0x10569cad0>"
      ]
     },
     "metadata": {},
     "output_type": "display_data"
    }
   ],
   "source": [
    "# your answer here -- below you'll see an example how to plot w. matplotlib\n",
    "\n",
    "x=np.arange(0,2*np.pi,0.1)\n",
    "plt.xlabel('x')\n",
    "plt.plot( x , np.sin(x) )"
   ]
  },
  {
   "cell_type": "markdown",
   "metadata": {},
   "source": [
    "## 2. Amino Acid Residues and pH\n",
    "List the types of interactions you can have between amino acid residues in a protein. Discuss for which residues - if any - solution pH plays a role."
   ]
  },
  {
   "cell_type": "markdown",
   "metadata": {},
   "source": [
    "_your answer here..._"
   ]
  },
  {
   "cell_type": "markdown",
   "metadata": {},
   "source": [
    "## 3. Distances\n",
    "\n",
    "The python list below, `p`, contains 3d atom positions for a small molecule.\n",
    "Visualise all pair-distances in a plot and, using an algorithm, find the pair with the maximum distance."
   ]
  },
  {
   "cell_type": "code",
   "execution_count": 3,
   "metadata": {
    "collapsed": false
   },
   "outputs": [],
   "source": [
    "p=[[ 0.28119999,  0.48289999,  1.38559997],\n",
    " [ 0.2696,      0.57849997,  1.27110004],\n",
    " [ 0.3389,      0.70730001,  1.31369996],\n",
    " [ 0.3213,      0.74760002,  1.42850006],\n",
    " [ 0.118,       0.59869999,  1.24870002],\n",
    " [ 0.0889,      0.70819998,  1.14600003],\n",
    " [-0.0594,      0.71210003,  1.11389995],\n",
    " [-0.0975,      0.81650001,  1.01010001],\n",
    " [-0.2393,      0.80769998,  0.96890002],\n",
    " [ 0.40599999,  0.76889998,  1.21930003],\n",
    " [ 0.45730001,  0.9034,      1.24150002],\n",
    " [ 0.37490001,  0.99839997,  1.15880001],\n",
    " [ 0.373,       0.98650002,  1.03419995],\n",
    " [ 0.60680002,  0.91420001,  1.20669997],\n",
    " [ 0.65350002,  1.05540001,  1.24039996],\n",
    " [ 0.68910003,  0.80580002,  1.27639997],\n",
    " [ 0.29539999,  1.08099997,  1.22350001],\n",
    " [ 0.2104,      1.17610002,  1.15400004],\n",
    " [ 0.28999999,  1.29050004,  1.09220004],\n",
    " [ 0.39219999,  1.33109999,  1.14090002],\n",
    " [ 0.1081,      1.2385,      1.25230002],\n",
    " [-0.0165,      1.15849996,  1.27170002],\n",
    " [-0.0222,      1.05579996,  1.36469996],\n",
    " [-0.1312,      1.1882,      1.20229995],\n",
    " [-0.14,        0.98449999,  1.38180006],\n",
    " [-0.24969999,  1.12150002,  1.22290003],\n",
    " [-0.252,       1.01900005,  1.31579995]]"
   ]
  },
  {
   "cell_type": "code",
   "execution_count": 4,
   "metadata": {
    "collapsed": true
   },
   "outputs": [],
   "source": [
    "# your answer here..."
   ]
  },
  {
   "cell_type": "markdown",
   "metadata": {},
   "source": [
    "## 4. Working Environment\n",
    "\n",
    "In maximum half a page total, please give your view on the following:\n",
    "\n",
    "- what is a good colleague?\n",
    "- what is a good working environment?\n",
    "- how do you contribute to the above?"
   ]
  },
  {
   "cell_type": "markdown",
   "metadata": {},
   "source": [
    "_your answer here..._"
   ]
  },
  {
   "cell_type": "markdown",
   "metadata": {},
   "source": [
    "## 5. Why PhD?\n",
    "\n",
    "Give _three_ personal reasons why you pursue a PhD degree."
   ]
  },
  {
   "cell_type": "markdown",
   "metadata": {},
   "source": [
    "_your answer here..._"
   ]
  }
 ],
 "metadata": {
  "kernelspec": {
   "display_name": "Python 2",
   "language": "python",
   "name": "python2"
  },
  "language_info": {
   "codemirror_mode": {
    "name": "ipython",
    "version": 2
   },
   "file_extension": ".py",
   "mimetype": "text/x-python",
   "name": "python",
   "nbconvert_exporter": "python",
   "pygments_lexer": "ipython2",
   "version": "2.7.11"
  }
 },
 "nbformat": 4,
 "nbformat_minor": 0
}
